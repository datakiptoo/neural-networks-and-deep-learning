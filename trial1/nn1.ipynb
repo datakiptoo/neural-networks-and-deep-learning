{
 "cells": [
  {
   "cell_type": "markdown",
   "metadata": {},
   "source": [
    "# Implementing a network to classify digits\n"
   ]
  },
  {
   "cell_type": "code",
   "execution_count": 57,
   "metadata": {},
   "outputs": [],
   "source": [
    "#program that learns how to recognize handwritten digits, using stochastic gradient descent and training data\n",
    "import random\n",
    "import numpy as np"
   ]
  },
  {
   "cell_type": "code",
   "execution_count": 58,
   "metadata": {},
   "outputs": [],
   "source": [
    "#centerpiece - represent a neural network\n",
    "class Network:\n",
    "    def __init__(self,layers): # layers =number of neurons in each layer\n",
    "        self.num_layers=len(layers)\n",
    "        self.layers=layers\n",
    "        self.biases=[np.random.radn(y,1) for y in layers [1:]]# random initialization\n",
    "        self.weights=[np.random.radn(y,x) for x,y in zip (layers[:-1],layers[1:])]\n",
    "        "
   ]
  },
  {
   "cell_type": "markdown",
   "metadata": {},
   "source": [
    "\n",
    "## a`=~(wa + b)"
   ]
  },
  {
   "cell_type": "code",
   "execution_count": 1,
   "metadata": {},
   "outputs": [
    {
     "name": "stderr",
     "output_type": "stream",
     "text": [
      "<>:5: SyntaxWarning: 'float' object is not callable; perhaps you missed a comma?\n",
      "<>:5: SyntaxWarning: 'float' object is not callable; perhaps you missed a comma?\n",
      "C:\\Users\\hp\\AppData\\Local\\Temp\\ipykernel_3992\\911355740.py:5: SyntaxWarning: 'float' object is not callable; perhaps you missed a comma?\n",
      "  return 1.0(1.0 + np.exp(-z))\n"
     ]
    }
   ],
   "source": [
    "#output of a network instance\n",
    "\n",
    "#sigmoid function\n",
    "def sigmoid(z):\n",
    "    return 1.0(1.0 + np.exp(-z))\n",
    "\n",
    "#feedforward method\n",
    "def feedforward(self,a):\n",
    "    #return output of a network if a is input\n",
    "    for b, w in zip(self.biases, self.weights):\n",
    "        a=sigmoid(np.dot(w, a)+ b)\n",
    "    return a"
   ]
  },
  {
   "cell_type": "code",
   "execution_count": null,
   "metadata": {},
   "outputs": [],
   "source": [
    "#Implement a stochastic gradient descent for learning\n",
    "def sgd(self,training_data,epochs,mini_batch_size,eta,test_data=None):\n",
    "    if test_data: \n",
    "        n_test=len(test_data)\n",
    "    n=len(training_data)\n",
    "    for j in range(epochs):\n",
    "        random.shuffle(training_data)#random shuffling the data\n",
    "        mini_batches=[training_data[k:k+mini_batch_size]for k in range(0,n,mini_batch_size)] # partition into mini-batches\n",
    "        for mini_batch in mini_batches:\n",
    "            self.update_mini_batch(mini_batch, eta) #apply update_mini_batch method\n",
    "        if test_data:\n",
    "            print(\"Epoch {0}: {1}/{2}\".formart(j, self.evaluate(test_data), n_test))\n",
    "        else:\n",
    "            print(\"Epoch {0} complete\".format(j))\n",
    "        \n",
    "        "
   ]
  },
  {
   "cell_type": "code",
   "execution_count": null,
   "metadata": {},
   "outputs": [],
   "source": [
    "#update the weights and biases by applying gradient descent using backpropagation to a single mini-batch\n",
    "#computes gradient using backpropagation then updates self.weights and self.biases appropriately\n",
    "def update_mini_batch(self,mini_batch,eta):\n",
    "    np_b=[np.zeroes(b.shape) for b in self.biases]\n",
    "    np_w=[np.zeroes(w.shape) for w in self.weights]\n",
    "    for x, y in mini_batch:\n",
    "        update_np_b, update_np_w = self.backprop(x,y)#invokes backpropagation algorithmn\n",
    "        np_b=[nb + unb for nb, unb in zip(np_b,update_np_b)]\n",
    "        np_w=[nw + unw for nw, unw in zip(np_w,update_np_w)]\n",
    "    self.weights = [w-(eta/len(mini_batch))*nw for w, nw in zip(self.weights, np_w)] \n",
    "    self.biases = [b-(eta/len(mini_batch))*nb  for b, nb in zip(self.biases, np_b)] "
   ]
  },
  {
   "cell_type": "code",
   "execution_count": null,
   "metadata": {},
   "outputs": [],
   "source": []
  }
 ],
 "metadata": {
  "kernelspec": {
   "display_name": "myenv",
   "language": "python",
   "name": "python3"
  },
  "language_info": {
   "codemirror_mode": {
    "name": "ipython",
    "version": 3
   },
   "file_extension": ".py",
   "mimetype": "text/x-python",
   "name": "python",
   "nbconvert_exporter": "python",
   "pygments_lexer": "ipython3",
   "version": "3.9.16"
  }
 },
 "nbformat": 4,
 "nbformat_minor": 2
}
